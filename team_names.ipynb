{
 "cells": [
  {
   "cell_type": "code",
   "execution_count": 15,
   "id": "9a5c1404-077d-454b-a1ed-38e68e5cc022",
   "metadata": {},
   "outputs": [],
   "source": [
    "import pandas as pd\n",
    "#from my_leagues import *\n",
    "from functions.sleeper_functions import *\n",
    "import requests\n",
    "from datetime import datetime\n",
    "import re"
   ]
  },
  {
   "cell_type": "code",
   "execution_count": 16,
   "id": "97a96515-afad-4b5b-972a-a21696962fe2",
   "metadata": {},
   "outputs": [],
   "source": [
    "el = get_existing_leagues()"
   ]
  },
  {
   "cell_type": "code",
   "execution_count": 17,
   "id": "e70e732a-6977-48f0-99f4-73b348effde9",
   "metadata": {},
   "outputs": [],
   "source": [
    "df = el.reset_index(drop=True)\n",
    "df = df[df['status'] == 'in_season']\n",
    "#df = df.dropna(subset=['previous_league_id'])\n",
    "#df = df[df['previous_league_id'].str.len() > 2].reset_index(drop=True)"
   ]
  },
  {
   "cell_type": "code",
   "execution_count": 18,
   "id": "8f228efa-f4dc-4c9d-b41e-04368e2b4294",
   "metadata": {},
   "outputs": [],
   "source": [
    "df = df.sort_values(by='last_message_time', ascending = False)"
   ]
  },
  {
   "cell_type": "code",
   "execution_count": 19,
   "id": "e4b7544d-91ce-4c2e-894e-c21200dfd536",
   "metadata": {},
   "outputs": [
    {
     "data": {
      "text/plain": [
       "56313"
      ]
     },
     "execution_count": 19,
     "metadata": {},
     "output_type": "execute_result"
    }
   ],
   "source": [
    "len(df)"
   ]
  },
  {
   "cell_type": "code",
   "execution_count": 8,
   "id": "778808f9-38d5-4d5e-b3c6-25c2785936f0",
   "metadata": {},
   "outputs": [],
   "source": [
    "leagues = df.league_id.to_list()"
   ]
  },
  {
   "cell_type": "code",
   "execution_count": 21,
   "id": "2a692f34-e3bd-4112-90d3-daf9e5d1e3d0",
   "metadata": {},
   "outputs": [
    {
     "name": "stdout",
     "output_type": "stream",
     "text": [
      "500/5000 (10.00%) ETR: 2022-08-17 12:09:04.057812\n",
      "1000/5000 (20.00%) ETR: 2022-08-17 12:09:01.676532\n",
      "1500/5000 (30.00%) ETR: 2022-08-17 12:06:11.547249\n",
      "2000/5000 (40.00%) ETR: 2022-08-17 12:06:22.443009\n",
      "2500/5000 (50.00%) ETR: 2022-08-17 12:05:42.776076\n",
      "3000/5000 (60.00%) ETR: 2022-08-17 12:05:07.427447\n",
      "3500/5000 (70.00%) ETR: 2022-08-17 12:04:51.385372\n",
      "4000/5000 (80.00%) ETR: 2022-08-17 12:04:29.663634\n",
      "4500/5000 (90.00%) ETR: 2022-08-17 12:04:21.162666\n",
      "5000/5000 (100.00%) ETR: 2022-08-17 12:04:42.254483\n",
      "Finished in: 0:26:48.119935\n"
     ]
    }
   ],
   "source": [
    "tdf = pd.DataFrame()\n",
    "start = datetime.now()\n",
    "limit = 5000\n",
    "ls = 0\n",
    "for league in leagues[:limit]:\n",
    "    ls += 1\n",
    "    if ls % 500 == 0:\n",
    "        pct = (ls/limit)\n",
    "        span = (datetime.now() - start) / pct\n",
    "        print(str(ls) + '/' + str(limit) + ' (' + \"%.2f\" % (pct * 100) + '%) ETR: ' + str(start + span))\n",
    "    try:\n",
    "        teams = get_league(league_id = league)#['metadata']\n",
    "\n",
    "        for index, row in teams.iterrows():\n",
    "            try:\n",
    "                #print(row['user_id'], row['metadata'].get('team_name'))\n",
    "                l = row['league_id']\n",
    "                uid = row['user_id']\n",
    "                tn = row['metadata'].get('team_name')\n",
    "                rows = [l, uid, tn]\n",
    "                tdf = tdf.append([rows])\n",
    "            except Exception as ex:\n",
    "                print(ex)\n",
    "                pass\n",
    "    except Exception as e:\n",
    "        print(e)\n",
    "        pass\n",
    "\n",
    "print('Finished in: ' + str(datetime.now()-start))"
   ]
  },
  {
   "cell_type": "code",
   "execution_count": 22,
   "id": "01d48eee-67a1-4e0c-8363-e33e034d572e",
   "metadata": {},
   "outputs": [],
   "source": [
    "tdf.columns = ['league', 'user_id','team_name']\n",
    "tdf = tdf.dropna()\n",
    "tdf['team_name'] = tdf.team_name.str.replace('&','and',regex=False).str.replace('[^a-zA-Z0-9 \\n\\.]', '', regex=True).str.lower().str.strip()\n",
    "tdf['team_name'] = tdf.team_name.str.replace('^the ','',regex=True)\n",
    "tdf = tdf.drop_duplicates(subset=['user_id','team_name']).reset_index(drop=True)\n",
    "tdf.to_csv('Files/team_names.csv', index=False)"
   ]
  },
  {
   "cell_type": "code",
   "execution_count": 23,
   "id": "7ad2e03a-6477-4523-b4c4-96a38739d533",
   "metadata": {},
   "outputs": [],
   "source": [
    "fin = tdf\n",
    "fin = fin.groupby('team_name').count().sort_values(by='user_id', ascending = False).reset_index()"
   ]
  },
  {
   "cell_type": "code",
   "execution_count": 24,
   "id": "6c29d921-ecc9-4243-b288-38209546b8b8",
   "metadata": {},
   "outputs": [],
   "source": [
    "fin.to_csv('Files/top_team_names.csv', index=False)"
   ]
  },
  {
   "cell_type": "code",
   "execution_count": null,
   "id": "935092d3-ed45-4ee8-b42f-ddd58a4d8380",
   "metadata": {},
   "outputs": [],
   "source": []
  }
 ],
 "metadata": {
  "kernelspec": {
   "display_name": "Python 3 (ipykernel)",
   "language": "python",
   "name": "python3"
  },
  "language_info": {
   "codemirror_mode": {
    "name": "ipython",
    "version": 3
   },
   "file_extension": ".py",
   "mimetype": "text/x-python",
   "name": "python",
   "nbconvert_exporter": "python",
   "pygments_lexer": "ipython3",
   "version": "3.9.7"
  }
 },
 "nbformat": 4,
 "nbformat_minor": 5
}
