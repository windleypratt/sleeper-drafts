{
 "cells": [
  {
   "cell_type": "code",
   "execution_count": 1,
   "id": "e814c74a-3514-4c2f-a126-f22be41ddf3e",
   "metadata": {},
   "outputs": [],
   "source": [
    "from functions.sleeper_functions import *\n",
    "import pandas as pd\n",
    "from datetime import datetime"
   ]
  },
  {
   "cell_type": "code",
   "execution_count": 2,
   "id": "de167448-b793-4fcc-8741-528bc35e47e0",
   "metadata": {},
   "outputs": [],
   "source": [
    "drafts = pd.read_csv('Files/draft_meta.csv')\n",
    "leagues = pd.read_csv('Files/leagues_info.csv', dtype='object')"
   ]
  },
  {
   "cell_type": "code",
   "execution_count": 3,
   "id": "8c302e93-e486-49f0-a2fa-fcb4173169e6",
   "metadata": {},
   "outputs": [],
   "source": [
    "leagues = leagues.dropna(subset=['previous_league_id']).drop_duplicates(subset=['league_id']).reset_index(drop=True)"
   ]
  },
  {
   "cell_type": "code",
   "execution_count": 4,
   "id": "18d2526b-37c9-42ea-8087-6db8984bf134",
   "metadata": {},
   "outputs": [],
   "source": [
    "prev = leagues['previous_league_id'].to_list()"
   ]
  },
  {
   "cell_type": "code",
   "execution_count": 5,
   "id": "2ada1298-fc94-42af-82f2-2e88f83af633",
   "metadata": {},
   "outputs": [
    {
     "name": "stdout",
     "output_type": "stream",
     "text": [
      "Original Length: 8096\n",
      "Prev removed: 8183\n"
     ]
    },
    {
     "name": "stderr",
     "output_type": "stream",
     "text": [
      "/var/folders/w2/0q5xhrf578d2c6cdn9g187jm0000gn/T/ipykernel_61298/1033146880.py:64: PerformanceWarning: DataFrame is highly fragmented.  This is usually the result of calling `frame.insert` many times, which has poor performance.  Consider joining all columns at once using pd.concat(axis=1) instead.  To get a de-fragmented frame, use `newframe = frame.copy()`\n",
      "  league_info['last_update_dt'] = datetime.now()\n"
     ]
    },
    {
     "name": "stdout",
     "output_type": "stream",
     "text": [
      "New Length: 12802\n",
      "Finished in: 0:22:00.821659\n"
     ]
    }
   ],
   "source": [
    "el = pd.read_csv('Files/working/league_data_2021.csv', dtype='object')\n",
    "els = el.league_id.to_list()\n",
    "\n",
    "print('Original Length: ' + str(len(el)))\n",
    "start = datetime.now()\n",
    "\n",
    "prev = leagues['previous_league_id'].to_list()\n",
    "ll = len(prev)\n",
    "\n",
    "prev = [i for i in prev if i not in els]\n",
    "\n",
    "print('Prev removed: ' + str(ll - len(prev)))\n",
    "\n",
    "conn = http.client.HTTPSConnection('api.sleeper.app')\n",
    "\n",
    "league_info = pd.DataFrame()\n",
    "drafts = pd.DataFrame()\n",
    "slots = pd.DataFrame()\n",
    "results = pd.DataFrame()\n",
    "for league in prev[:5000]:\n",
    "        try:\n",
    "            conn.request(\"GET\", '/v1/league/' + str(league))\n",
    "            start_conn = conn.getresponse().read()\n",
    "            data = json.loads(start_conn)\n",
    "            \n",
    "            # League Info\n",
    "            league_info = league_info.append(pd.json_normalize(data))\n",
    "            \n",
    "        except:\n",
    "            pass\n",
    "        \n",
    "        try:\n",
    "            # Draft Data\n",
    "            draft_id = data.get('draft_id')\n",
    "            conn.request(\"GET\", '/v1/draft/' + str(draft_id) )\n",
    "            start_conn = conn.getresponse().read()\n",
    "            dataB = json.loads(start_conn)\n",
    "            if dataB.get('status') != 'complete':\n",
    "                pass\n",
    "            else:\n",
    "                d = pd.json_normalize(dataB)\n",
    "                sdf = d.filter(like='draft_order')\n",
    "                d = d[d.columns.drop(list(d.filter(regex='draft_order')))]\n",
    "                d = d[d.columns.drop(list(d.filter(regex='metadata')))]\n",
    "                d = d[d.columns.drop(list(d.filter(regex='settings.slots_')))]\n",
    "                d = d[d.columns.drop(list(d.filter(regex='settings.position_limit_')))]\n",
    "                drafts = drafts.append(d)\n",
    "\n",
    "                sdf = sdf.append(pd.DataFrame([sdf.columns], columns = sdf.columns)).reset_index(drop=True)\n",
    "                sdf.columns = sdf.iloc[0]\n",
    "                sdf = sdf.loc[1:]\n",
    "                sdf = sdf.replace('draft_order.', '', regex=True).transpose().reset_index()\n",
    "                sdf.columns = ['slot','user_id']\n",
    "                sdf['league_id'] = dataB.get('league_id')\n",
    "                sdf['status'] = dataB.get('status')\n",
    "                sdf['draft_id'] = dataB.get('draft_id')\n",
    "                sdf['draft_type'] = dataB.get('type')\n",
    "                sdf['season'] = dataB.get('season')\n",
    "                sdf['scoring_type'] = dataB.get('metadata').get('scoring_type')\n",
    "                slots = slots.append(sdf)\n",
    "                \n",
    "                # \n",
    "                try:\n",
    "                    conn = http.client.HTTPSConnection('api.sleeper.app')\n",
    "                    conn.request(\"GET\", '/v1/league/' + str(league_id) + '/rosters/')\n",
    "                    start_conn = conn.getresponse().read()\n",
    "                    rdata = json.loads(start_conn)\n",
    "                    df = pd.json_normalize(rdata)\n",
    "                    df = df[['owner_id','settings.total_moves','settings.wins','settings.ties','settings.losses', 'settings.fpts']]\n",
    "                    df['wins'] = df['settings.wins'] + (.5 * df['settings.ties'])\n",
    "                    df['points_standing'] = df['settings.fpts'].rank(ascending=False)\n",
    "                    df['season_standing'] = df[[\"wins\",\"settings.fpts\"]].apply(tuple,axis=1)\\\n",
    "                                 .rank(method='dense',ascending=False).astype(int)\n",
    "                    df = df[['owner_id','settings.total_moves','settings.fpts', 'wins', 'points_standing','season_standing']]\n",
    "                    df.columns = ['user_id','total_moves', 'season_points','wins','points_standing','season_standing']\n",
    "                    df['league_id'] = league_id\n",
    "                    results = results.append(df)\n",
    "                except:\n",
    "                    pass\n",
    "            \n",
    "        except:\n",
    "            pass\n",
    "\n",
    "slots = slots.merge(results, on=['league_id','user_id'], how='left').drop_duplicates()     \n",
    "\n",
    "league_info['last_update_dt'] = datetime.now()\n",
    "drafts['last_update_dt'] = datetime.now()\n",
    "slots['last_update_dt'] = datetime.now()\n",
    "\n",
    "# Handle League Info:\n",
    "\n",
    "el = el.append(league_info).sort_values(by=['last_update_dt','last_message_time'],ascending=[False,False]).drop_duplicates(subset=['league_id', 'draft_id'])\n",
    "print('New Length: ' + str(len(el)))\n",
    "\n",
    "el.to_csv('Files/working/league_data_2021.csv', index=False)\n",
    "del el\n",
    "\n",
    "# Handle Draft Info:\n",
    "\n",
    "ed = pd.read_csv('Files/working/draft_data_2021.csv', dtype='object')\n",
    "ed = ed.append(drafts).sort_values(by=['last_update_dt','last_message_time'],ascending=[False,False]).drop_duplicates(subset=['league_id','draft_id'])\n",
    "ed.to_csv('Files/working/draft_data_2021.csv', index=False)\n",
    "\n",
    "es = pd.read_csv('Files/working/slots_2021.csv', dtype='object')\n",
    "es = es.append(slots).drop_duplicates(subset=['league_id', 'draft_id','user_id'])\n",
    "es.to_csv('Files/working/slots_2021.csv', index=False)\n",
    "\n",
    "#league_info.drop_duplicates(subset=['league_id','draft_id']).to_csv('Files/working/league_data_2021.csv', index=False)\n",
    "#drafts.drop_duplicates(subset=['league_id','draft_id']).to_csv('Files/working/draft_data_2021.csv', index=False)\n",
    "#slots.drop_duplicates(subset=['league_id', 'draft_id','user_id']).to_csv('Files/working/slots_2021.csv', index=False)\n",
    "\n",
    "\n",
    "\n",
    "\n",
    "\n",
    "print('Finished in: ' + str(datetime.now()-start))"
   ]
  },
  {
   "cell_type": "code",
   "execution_count": null,
   "id": "2f542ba4-9b59-4fbd-a3a0-d6f5be355cf9",
   "metadata": {},
   "outputs": [],
   "source": []
  }
 ],
 "metadata": {
  "kernelspec": {
   "display_name": "Python 3 (ipykernel)",
   "language": "python",
   "name": "python3"
  },
  "language_info": {
   "codemirror_mode": {
    "name": "ipython",
    "version": 3
   },
   "file_extension": ".py",
   "mimetype": "text/x-python",
   "name": "python",
   "nbconvert_exporter": "python",
   "pygments_lexer": "ipython3",
   "version": "3.9.7"
  }
 },
 "nbformat": 4,
 "nbformat_minor": 5
}
