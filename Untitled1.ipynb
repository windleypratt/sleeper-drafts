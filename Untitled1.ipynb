{
 "cells": [
  {
   "cell_type": "code",
   "execution_count": 33,
   "id": "80ec5568-4fad-491c-b436-35f233472d2b",
   "metadata": {},
   "outputs": [],
   "source": [
    "import pandas as pd\n",
    "import math\n",
    "import numpy as np\n",
    "from functions.sleeper_functions import *\n",
    "from datetime import datetime"
   ]
  },
  {
   "cell_type": "code",
   "execution_count": 34,
   "id": "115e01b4-98f2-4d70-9837-06779da873e6",
   "metadata": {},
   "outputs": [],
   "source": [
    "ppr = pd.read_csv('Files/working/ppr_analysis.csv', dtype='object')\n",
    "ppr = ppr.dropna(subset=['r1_adp'])\n",
    "existing_drafts = ppr.draft_id.drop_duplicates().to_list()"
   ]
  },
  {
   "cell_type": "code",
   "execution_count": 35,
   "id": "a32489ea-0450-48bc-8852-5c1e2231708f",
   "metadata": {},
   "outputs": [],
   "source": [
    "df = pd.read_csv('Files/working/results_2021.csv', dtype='object')"
   ]
  },
  {
   "cell_type": "code",
   "execution_count": 36,
   "id": "f91d8c1e-baef-4b35-9a63-dc13631d9b4f",
   "metadata": {},
   "outputs": [],
   "source": [
    "df = df[df['draft_type'] == 'snake']\n",
    "df = df[df['scoring_type'] == 'ppr']"
   ]
  },
  {
   "cell_type": "code",
   "execution_count": 37,
   "id": "d36cdfe3-0c56-4a24-aeaa-0bc54f37d906",
   "metadata": {},
   "outputs": [],
   "source": [
    "draft_ids = df.draft_id.drop_duplicates().to_list()"
   ]
  },
  {
   "cell_type": "code",
   "execution_count": 38,
   "id": "af6f2cfa-1e97-4508-a4d4-c4ad6322ca03",
   "metadata": {},
   "outputs": [
    {
     "data": {
      "text/plain": [
       "5148"
      ]
     },
     "execution_count": 38,
     "metadata": {},
     "output_type": "execute_result"
    }
   ],
   "source": [
    "len(draft_ids)"
   ]
  },
  {
   "cell_type": "code",
   "execution_count": 39,
   "id": "511a72cb-05d3-4e3c-8426-b2df651aa9d9",
   "metadata": {},
   "outputs": [],
   "source": [
    "plist = [l for l in draft_ids if l not in existing_drafts]"
   ]
  },
  {
   "cell_type": "code",
   "execution_count": 40,
   "id": "984cb98a-15fd-4957-90e8-1d20e90e501b",
   "metadata": {},
   "outputs": [
    {
     "data": {
      "text/plain": [
       "2157"
      ]
     },
     "execution_count": 40,
     "metadata": {},
     "output_type": "execute_result"
    }
   ],
   "source": [
    "len(plist)"
   ]
  },
  {
   "cell_type": "code",
   "execution_count": 41,
   "id": "9191d1c1-4411-4fae-a51b-3a8a00101d4e",
   "metadata": {},
   "outputs": [],
   "source": [
    "conn = http.client.HTTPSConnection('api.sleeper.app')\n",
    "drafts = pd.DataFrame()\n",
    "adp_table = pd.DataFrame()\n",
    "for draft_id in plist:\n",
    "    try:\n",
    "        conn.request(\"GET\", \"/v1/draft/\" + str(draft_id) + \"/picks\")\n",
    "        response = conn.getresponse().read()\n",
    "        dd = pd.json_normalize(json.loads(response), record_prefix=True, meta_prefix=True)\n",
    "        adp_table = adp_table.append(dd)\n",
    "        teams = max(dd['draft_slot'])\n",
    "        dd = dd[dd['pick_no'] <= teams * 4]\n",
    "        dd = dd.pivot(index=['draft_id','picked_by', 'draft_slot'], columns = ['round'], values = ['metadata.position', 'metadata.player_id', 'pick_no']).reset_index()\n",
    "        dd = dd.T.reset_index(drop=True).transpose()\n",
    "        dd.columns = ['draft_id','user_id','slot','r1_pos', 'r2_pos', 'r3_pos','r4_pos', 'r1_pid', 'r2_pid','r3_pid','r4_pid', 'r1_pick', 'r2_pick','r3_pick','r4_pick']\n",
    "        dd['autopick'] = np.where(dd['user_id']==\"\", True, False)\n",
    "        drafts = drafts.append(dd)\n",
    "        \n",
    "    except:\n",
    "        pass"
   ]
  },
  {
   "cell_type": "code",
   "execution_count": 19,
   "id": "497294b5-2130-4263-a363-f7abf1f65cfe",
   "metadata": {},
   "outputs": [],
   "source": [
    "adp_table = adp_table.merge(df[['draft_id','draft_type','scoring_type']], on = 'draft_id', how= 'left')"
   ]
  },
  {
   "cell_type": "code",
   "execution_count": 20,
   "id": "8079e4e4-389d-4bed-890f-cac8c3b7be7f",
   "metadata": {},
   "outputs": [],
   "source": [
    "adp_table = adp_table.groupby(['draft_type','scoring_type','player_id'])['pick_no'].mean().reset_index().sort_values(by='pick_no')"
   ]
  },
  {
   "cell_type": "code",
   "execution_count": 21,
   "id": "791c5df1-3fb3-4ae8-ad2e-7939fc1d7b0e",
   "metadata": {},
   "outputs": [],
   "source": [
    "adp_table['adp_rank'] = adp_table.groupby('scoring_type')['pick_no'].rank(\"dense\",ascending=True)"
   ]
  },
  {
   "cell_type": "code",
   "execution_count": 22,
   "id": "0307089d-1184-45aa-887c-90bb983515ef",
   "metadata": {},
   "outputs": [],
   "source": [
    "adp_table.columns = ['draft_type', 'scoring_type', 'player_id', 'adp_avg', 'adp_rank']"
   ]
  },
  {
   "cell_type": "code",
   "execution_count": 23,
   "id": "274235ab-0734-4b08-b4bd-675d21c6cfd0",
   "metadata": {},
   "outputs": [],
   "source": [
    "drafts = drafts.merge(df[['draft_id','scoring_type']], on='draft_id',how='left').drop_duplicates().reset_index(drop=True)"
   ]
  },
  {
   "cell_type": "code",
   "execution_count": 24,
   "id": "c8d7a01c-9cc7-4cb6-95c7-d1b210fac101",
   "metadata": {},
   "outputs": [
    {
     "data": {
      "text/html": [
       "<div>\n",
       "<style scoped>\n",
       "    .dataframe tbody tr th:only-of-type {\n",
       "        vertical-align: middle;\n",
       "    }\n",
       "\n",
       "    .dataframe tbody tr th {\n",
       "        vertical-align: top;\n",
       "    }\n",
       "\n",
       "    .dataframe thead th {\n",
       "        text-align: right;\n",
       "    }\n",
       "</style>\n",
       "<table border=\"1\" class=\"dataframe\">\n",
       "  <thead>\n",
       "    <tr style=\"text-align: right;\">\n",
       "      <th></th>\n",
       "      <th>draft_id</th>\n",
       "      <th>user_id</th>\n",
       "      <th>slot</th>\n",
       "      <th>r1_pos</th>\n",
       "      <th>r2_pos</th>\n",
       "      <th>r3_pos</th>\n",
       "      <th>r4_pos</th>\n",
       "      <th>r1_pid</th>\n",
       "      <th>r2_pid</th>\n",
       "      <th>r3_pid</th>\n",
       "      <th>r4_pid</th>\n",
       "      <th>r1_pick</th>\n",
       "      <th>r2_pick</th>\n",
       "      <th>r3_pick</th>\n",
       "      <th>r4_pick</th>\n",
       "      <th>autopick</th>\n",
       "      <th>scoring_type</th>\n",
       "    </tr>\n",
       "  </thead>\n",
       "  <tbody>\n",
       "    <tr>\n",
       "      <th>0</th>\n",
       "      <td>738132630524059648</td>\n",
       "      <td>312682852397367296</td>\n",
       "      <td>1</td>\n",
       "      <td>RB</td>\n",
       "      <td>RB</td>\n",
       "      <td>WR</td>\n",
       "      <td>RB</td>\n",
       "      <td>4034</td>\n",
       "      <td>6813</td>\n",
       "      <td>4981</td>\n",
       "      <td>5892</td>\n",
       "      <td>1</td>\n",
       "      <td>20</td>\n",
       "      <td>21</td>\n",
       "      <td>40</td>\n",
       "      <td>False</td>\n",
       "      <td>ppr</td>\n",
       "    </tr>\n",
       "    <tr>\n",
       "      <th>1</th>\n",
       "      <td>738132630524059648</td>\n",
       "      <td>478808331692011520</td>\n",
       "      <td>4</td>\n",
       "      <td>WR</td>\n",
       "      <td>TE</td>\n",
       "      <td>RB</td>\n",
       "      <td>RB</td>\n",
       "      <td>2133</td>\n",
       "      <td>2505</td>\n",
       "      <td>7528</td>\n",
       "      <td>4273</td>\n",
       "      <td>4</td>\n",
       "      <td>17</td>\n",
       "      <td>24</td>\n",
       "      <td>37</td>\n",
       "      <td>False</td>\n",
       "      <td>ppr</td>\n",
       "    </tr>\n",
       "    <tr>\n",
       "      <th>2</th>\n",
       "      <td>738132630524059648</td>\n",
       "      <td>738128901980733440</td>\n",
       "      <td>6</td>\n",
       "      <td>QB</td>\n",
       "      <td>WR</td>\n",
       "      <td>TE</td>\n",
       "      <td>WR</td>\n",
       "      <td>4046</td>\n",
       "      <td>6794</td>\n",
       "      <td>5012</td>\n",
       "      <td>2309</td>\n",
       "      <td>6</td>\n",
       "      <td>15</td>\n",
       "      <td>26</td>\n",
       "      <td>35</td>\n",
       "      <td>False</td>\n",
       "      <td>ppr</td>\n",
       "    </tr>\n",
       "    <tr>\n",
       "      <th>3</th>\n",
       "      <td>738132630524059648</td>\n",
       "      <td>738142299506245632</td>\n",
       "      <td>7</td>\n",
       "      <td>RB</td>\n",
       "      <td>RB</td>\n",
       "      <td>WR</td>\n",
       "      <td>WR</td>\n",
       "      <td>3198</td>\n",
       "      <td>4663</td>\n",
       "      <td>5927</td>\n",
       "      <td>4039</td>\n",
       "      <td>7</td>\n",
       "      <td>14</td>\n",
       "      <td>27</td>\n",
       "      <td>34</td>\n",
       "      <td>False</td>\n",
       "      <td>ppr</td>\n",
       "    </tr>\n",
       "    <tr>\n",
       "      <th>4</th>\n",
       "      <td>738132630524059648</td>\n",
       "      <td>738145034024718336</td>\n",
       "      <td>8</td>\n",
       "      <td>RB</td>\n",
       "      <td>RB</td>\n",
       "      <td>QB</td>\n",
       "      <td>RB</td>\n",
       "      <td>4988</td>\n",
       "      <td>4866</td>\n",
       "      <td>4984</td>\n",
       "      <td>5850</td>\n",
       "      <td>8</td>\n",
       "      <td>13</td>\n",
       "      <td>28</td>\n",
       "      <td>33</td>\n",
       "      <td>False</td>\n",
       "      <td>ppr</td>\n",
       "    </tr>\n",
       "    <tr>\n",
       "      <th>...</th>\n",
       "      <td>...</td>\n",
       "      <td>...</td>\n",
       "      <td>...</td>\n",
       "      <td>...</td>\n",
       "      <td>...</td>\n",
       "      <td>...</td>\n",
       "      <td>...</td>\n",
       "      <td>...</td>\n",
       "      <td>...</td>\n",
       "      <td>...</td>\n",
       "      <td>...</td>\n",
       "      <td>...</td>\n",
       "      <td>...</td>\n",
       "      <td>...</td>\n",
       "      <td>...</td>\n",
       "      <td>...</td>\n",
       "      <td>...</td>\n",
       "    </tr>\n",
       "    <tr>\n",
       "      <th>16112</th>\n",
       "      <td>727384686300581888</td>\n",
       "      <td>731353109183471616</td>\n",
       "      <td>4</td>\n",
       "      <td>RB</td>\n",
       "      <td>RB</td>\n",
       "      <td>WR</td>\n",
       "      <td>QB</td>\n",
       "      <td>4029</td>\n",
       "      <td>6813</td>\n",
       "      <td>5927</td>\n",
       "      <td>96</td>\n",
       "      <td>4</td>\n",
       "      <td>17</td>\n",
       "      <td>24</td>\n",
       "      <td>37</td>\n",
       "      <td>False</td>\n",
       "      <td>ppr</td>\n",
       "    </tr>\n",
       "    <tr>\n",
       "      <th>16113</th>\n",
       "      <td>727384686300581888</td>\n",
       "      <td>731362528252272640</td>\n",
       "      <td>1</td>\n",
       "      <td>RB</td>\n",
       "      <td>WR</td>\n",
       "      <td>QB</td>\n",
       "      <td>TE</td>\n",
       "      <td>3198</td>\n",
       "      <td>6794</td>\n",
       "      <td>4881</td>\n",
       "      <td>515</td>\n",
       "      <td>1</td>\n",
       "      <td>20</td>\n",
       "      <td>21</td>\n",
       "      <td>40</td>\n",
       "      <td>False</td>\n",
       "      <td>ppr</td>\n",
       "    </tr>\n",
       "    <tr>\n",
       "      <th>16114</th>\n",
       "      <td>727384686300581888</td>\n",
       "      <td>731633023828762624</td>\n",
       "      <td>9</td>\n",
       "      <td>WR</td>\n",
       "      <td>RB</td>\n",
       "      <td>DEF</td>\n",
       "      <td>QB</td>\n",
       "      <td>2769</td>\n",
       "      <td>3164</td>\n",
       "      <td>CIN</td>\n",
       "      <td>5974</td>\n",
       "      <td>9</td>\n",
       "      <td>12</td>\n",
       "      <td>29</td>\n",
       "      <td>32</td>\n",
       "      <td>False</td>\n",
       "      <td>ppr</td>\n",
       "    </tr>\n",
       "    <tr>\n",
       "      <th>16115</th>\n",
       "      <td>727384686300581888</td>\n",
       "      <td>731678689217101824</td>\n",
       "      <td>6</td>\n",
       "      <td>WR</td>\n",
       "      <td>TE</td>\n",
       "      <td>RB</td>\n",
       "      <td>QB</td>\n",
       "      <td>2133</td>\n",
       "      <td>1466</td>\n",
       "      <td>6820</td>\n",
       "      <td>167</td>\n",
       "      <td>6</td>\n",
       "      <td>15</td>\n",
       "      <td>26</td>\n",
       "      <td>35</td>\n",
       "      <td>False</td>\n",
       "      <td>ppr</td>\n",
       "    </tr>\n",
       "    <tr>\n",
       "      <th>16116</th>\n",
       "      <td>727384686300581888</td>\n",
       "      <td>731692525257076736</td>\n",
       "      <td>10</td>\n",
       "      <td>WR</td>\n",
       "      <td>RB</td>\n",
       "      <td>QB</td>\n",
       "      <td>TE</td>\n",
       "      <td>5846</td>\n",
       "      <td>4866</td>\n",
       "      <td>6797</td>\n",
       "      <td>2505</td>\n",
       "      <td>10</td>\n",
       "      <td>11</td>\n",
       "      <td>30</td>\n",
       "      <td>31</td>\n",
       "      <td>False</td>\n",
       "      <td>ppr</td>\n",
       "    </tr>\n",
       "  </tbody>\n",
       "</table>\n",
       "<p>16117 rows × 17 columns</p>\n",
       "</div>"
      ],
      "text/plain": [
       "                 draft_id             user_id slot r1_pos r2_pos r3_pos  \\\n",
       "0      738132630524059648  312682852397367296    1     RB     RB     WR   \n",
       "1      738132630524059648  478808331692011520    4     WR     TE     RB   \n",
       "2      738132630524059648  738128901980733440    6     QB     WR     TE   \n",
       "3      738132630524059648  738142299506245632    7     RB     RB     WR   \n",
       "4      738132630524059648  738145034024718336    8     RB     RB     QB   \n",
       "...                   ...                 ...  ...    ...    ...    ...   \n",
       "16112  727384686300581888  731353109183471616    4     RB     RB     WR   \n",
       "16113  727384686300581888  731362528252272640    1     RB     WR     QB   \n",
       "16114  727384686300581888  731633023828762624    9     WR     RB    DEF   \n",
       "16115  727384686300581888  731678689217101824    6     WR     TE     RB   \n",
       "16116  727384686300581888  731692525257076736   10     WR     RB     QB   \n",
       "\n",
       "      r4_pos r1_pid r2_pid r3_pid r4_pid r1_pick r2_pick r3_pick r4_pick  \\\n",
       "0         RB   4034   6813   4981   5892       1      20      21      40   \n",
       "1         RB   2133   2505   7528   4273       4      17      24      37   \n",
       "2         WR   4046   6794   5012   2309       6      15      26      35   \n",
       "3         WR   3198   4663   5927   4039       7      14      27      34   \n",
       "4         RB   4988   4866   4984   5850       8      13      28      33   \n",
       "...      ...    ...    ...    ...    ...     ...     ...     ...     ...   \n",
       "16112     QB   4029   6813   5927     96       4      17      24      37   \n",
       "16113     TE   3198   6794   4881    515       1      20      21      40   \n",
       "16114     QB   2769   3164    CIN   5974       9      12      29      32   \n",
       "16115     QB   2133   1466   6820    167       6      15      26      35   \n",
       "16116     TE   5846   4866   6797   2505      10      11      30      31   \n",
       "\n",
       "       autopick scoring_type  \n",
       "0         False          ppr  \n",
       "1         False          ppr  \n",
       "2         False          ppr  \n",
       "3         False          ppr  \n",
       "4         False          ppr  \n",
       "...         ...          ...  \n",
       "16112     False          ppr  \n",
       "16113     False          ppr  \n",
       "16114     False          ppr  \n",
       "16115     False          ppr  \n",
       "16116     False          ppr  \n",
       "\n",
       "[16117 rows x 17 columns]"
      ]
     },
     "execution_count": 24,
     "metadata": {},
     "output_type": "execute_result"
    }
   ],
   "source": [
    "drafts"
   ]
  },
  {
   "cell_type": "code",
   "execution_count": 25,
   "id": "ad1b9c10-fb0c-42a9-862a-86284f8db7bb",
   "metadata": {},
   "outputs": [],
   "source": [
    "drafts = drafts.merge(adp_table[['player_id','scoring_type','adp_rank']], left_on=['r1_pid','scoring_type'], right_on=['player_id','scoring_type'], how='left').drop('player_id', axis=1) \n",
    "drafts.rename(columns={'adp_rank':'r1_adp'}, inplace=True)\n",
    "\n",
    "drafts = drafts.merge(adp_table[['player_id','scoring_type','adp_rank']], left_on=['r2_pid','scoring_type'], right_on=['player_id','scoring_type'], how='left').drop('player_id', axis=1) \n",
    "drafts.rename(columns={'adp_rank':'r2_adp'}, inplace=True)\n",
    "\n",
    "drafts = drafts.merge(adp_table[['player_id','scoring_type','adp_rank']], left_on=['r3_pid','scoring_type'], right_on=['player_id','scoring_type'], how='left').drop('player_id', axis=1) \n",
    "drafts.rename(columns={'adp_rank':'r3_adp'}, inplace=True)\n",
    "\n",
    "drafts = drafts.merge(adp_table[['player_id','scoring_type','adp_rank']], left_on=['r4_pid','scoring_type'], right_on=['player_id','scoring_type'], how='left').drop('player_id', axis=1) \n",
    "drafts.rename(columns={'adp_rank':'r4_adp'}, inplace=True)"
   ]
  },
  {
   "cell_type": "code",
   "execution_count": 26,
   "id": "42bb88d7-ea67-423d-aee6-49a2e392c3c1",
   "metadata": {},
   "outputs": [],
   "source": [
    "cols_to_merge = drafts.columns.difference(df.columns)\n",
    "dfNew = df.merge(drafts, on=['draft_id','user_id'], how='left', suffixes=('', '_y'))\n",
    "\n",
    "dfNew.drop(dfNew.filter(regex='_y$').columns, axis=1, inplace=True)"
   ]
  },
  {
   "cell_type": "code",
   "execution_count": 27,
   "id": "992ec83a-07d4-4fd0-a9e0-03ea40385f84",
   "metadata": {},
   "outputs": [
    {
     "data": {
      "text/plain": [
       "1493"
      ]
     },
     "execution_count": 27,
     "metadata": {},
     "output_type": "execute_result"
    }
   ],
   "source": [
    "len(dfNew.dropna().draft_id.drop_duplicates().to_list())"
   ]
  },
  {
   "cell_type": "code",
   "execution_count": 28,
   "id": "25074c47-5446-4cef-abf9-197221d37c38",
   "metadata": {},
   "outputs": [],
   "source": [
    "dfNew = dfNew.dropna(subset=['r1_adp'])"
   ]
  },
  {
   "cell_type": "code",
   "execution_count": 29,
   "id": "30542c85-b0d7-4cec-92ba-23c9731189c5",
   "metadata": {},
   "outputs": [],
   "source": [
    "ddf = ppr.append(dfNew)"
   ]
  },
  {
   "cell_type": "code",
   "execution_count": 32,
   "id": "316d6217-f9e8-4a36-9e77-f60e86c840a3",
   "metadata": {},
   "outputs": [],
   "source": [
    "ddf.drop_duplicates().to_csv('Files/working/ppr_analysis.csv', index=False)"
   ]
  },
  {
   "cell_type": "code",
   "execution_count": 18,
   "id": "d238d9ab-44e2-4505-8b7e-373f67852ce5",
   "metadata": {},
   "outputs": [],
   "source": [
    "dfNew.to_csv('ppr_analysis.csv', index=False)"
   ]
  },
  {
   "cell_type": "code",
   "execution_count": 44,
   "id": "7d2947ab-52c8-4327-a38d-978d0893909f",
   "metadata": {},
   "outputs": [
    {
     "ename": "AttributeError",
     "evalue": "'Index' object has no attribute 'dtypes'",
     "output_type": "error",
     "traceback": [
      "\u001b[0;31m---------------------------------------------------------------------------\u001b[0m",
      "\u001b[0;31mAttributeError\u001b[0m                            Traceback (most recent call last)",
      "\u001b[0;32m/var/folders/w2/0q5xhrf578d2c6cdn9g187jm0000gn/T/ipykernel_22016/1613383093.py\u001b[0m in \u001b[0;36m<module>\u001b[0;34m\u001b[0m\n\u001b[0;32m----> 1\u001b[0;31m \u001b[0;34m(\u001b[0m\u001b[0mdrafts\u001b[0m\u001b[0;34m.\u001b[0m\u001b[0mcolumns\u001b[0m\u001b[0;34m)\u001b[0m\u001b[0;34m.\u001b[0m\u001b[0mdtypes\u001b[0m\u001b[0;34m\u001b[0m\u001b[0;34m\u001b[0m\u001b[0m\n\u001b[0m",
      "\u001b[0;31mAttributeError\u001b[0m: 'Index' object has no attribute 'dtypes'"
     ]
    }
   ],
   "source": []
  },
  {
   "cell_type": "code",
   "execution_count": null,
   "id": "9a095570-622d-4e01-9302-a63c6a1bf0ca",
   "metadata": {},
   "outputs": [],
   "source": []
  }
 ],
 "metadata": {
  "kernelspec": {
   "display_name": "Python 3 (ipykernel)",
   "language": "python",
   "name": "python3"
  },
  "language_info": {
   "codemirror_mode": {
    "name": "ipython",
    "version": 3
   },
   "file_extension": ".py",
   "mimetype": "text/x-python",
   "name": "python",
   "nbconvert_exporter": "python",
   "pygments_lexer": "ipython3",
   "version": "3.9.7"
  }
 },
 "nbformat": 4,
 "nbformat_minor": 5
}
